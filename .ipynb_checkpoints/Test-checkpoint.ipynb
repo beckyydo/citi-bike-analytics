{
 "cells": [
  {
   "cell_type": "code",
   "execution_count": null,
   "metadata": {},
   "outputs": [],
   "source": [
    "import pandas as pd\n",
    "from datetime import datetime\n",
    "from dateutil.relativedelta import relativedelta"
   ]
  },
  {
   "cell_type": "code",
   "execution_count": null,
   "metadata": {},
   "outputs": [],
   "source": [
    "today_date = datetime.today().strftime('%Y%m')\n",
    "end_year = int(today_date[0:4])\n",
    "end_day = int(today_date[5:7])\n",
    "str(end_day)"
   ]
  },
  {
   "cell_type": "code",
   "execution_count": null,
   "metadata": {},
   "outputs": [],
   "source": [
    "#os.listdir()\n",
    "#basepath = \"./sites/google/\" + str(site) + \"/\"\n",
    "#      for entry in os.listdir(basepath):\n",
    "#       if os.path.isfile(os.path.join(basepath, entry)):\n",
    "#          one_file = pd.read_csv(entry)\n",
    "#        final_pdf = "
   ]
  }
 ],
 "metadata": {
  "kernelspec": {
   "display_name": "Python 3",
   "language": "python",
   "name": "python3"
  },
  "language_info": {
   "codemirror_mode": {
    "name": "ipython",
    "version": 3
   },
   "file_extension": ".py",
   "mimetype": "text/x-python",
   "name": "python",
   "nbconvert_exporter": "python",
   "pygments_lexer": "ipython3",
   "version": "3.8.5"
  }
 },
 "nbformat": 4,
 "nbformat_minor": 4
}
